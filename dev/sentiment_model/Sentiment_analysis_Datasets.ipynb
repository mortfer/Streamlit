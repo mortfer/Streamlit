{
 "cells": [
  {
   "cell_type": "code",
   "execution_count": 8,
   "id": "03ece9be",
   "metadata": {},
   "outputs": [],
   "source": [
    "import pandas as pd\n",
    "import numpy as np\n",
    "from sklearn.model_selection import train_test_split\n",
    "from sentence_transformers import SentenceTransformer\n",
    "import matplotlib.pyplot as plt\n",
    "import seaborn as sns\n",
    "from sklearn.linear_model import LogisticRegression\n",
    "from sklearn.metrics import accuracy_score\n",
    "from sklearn.ensemble import RandomForestClassifier\n",
    "pd.set_option('max_colwidth', 250)\n",
    "import re\n",
    "from bs4 import BeautifulSoup\n",
    "from datasets import load_dataset"
   ]
  },
  {
   "cell_type": "markdown",
   "id": "de5f8adf",
   "metadata": {},
   "source": [
    "**In this notebook we compute embeddings of datasets to save them and use them later to train a sentiment model in another notebook** <br />\n",
    "Most of these datasets are in spanish"
   ]
  },
  {
   "cell_type": "code",
   "execution_count": 12,
   "id": "a306bf40",
   "metadata": {},
   "outputs": [],
   "source": [
    "datasets_path='../../data/sentiment_datasets/'\n",
    "embeddings_path='../../data/sentiment_datasets_embeddings/'"
   ]
  },
  {
   "cell_type": "markdown",
   "id": "b6a4445c",
   "metadata": {},
   "source": [
    "## IMDB dataset"
   ]
  },
  {
   "cell_type": "markdown",
   "id": "5177ae8d",
   "metadata": {},
   "source": [
    "Dataset obtained from https://www.kaggle.com/arunmohan003/sentiment-analysis-using-lstm-pytorch/data"
   ]
  },
  {
   "cell_type": "code",
   "execution_count": 11,
   "id": "a22a7ddc",
   "metadata": {
    "scrolled": true
   },
   "outputs": [
    {
     "data": {
      "text/plain": [
       "(50000, 2)"
      ]
     },
     "execution_count": 11,
     "metadata": {},
     "output_type": "execute_result"
    }
   ],
   "source": [
    "df_movies=pd.read_csv(datasets_path+'IMDB_Dataset.csv')\n",
    "df_movies.shape"
   ]
  },
  {
   "cell_type": "code",
   "execution_count": 4,
   "id": "5ae94723",
   "metadata": {},
   "outputs": [
    {
     "data": {
      "text/html": [
       "<div>\n",
       "<style scoped>\n",
       "    .dataframe tbody tr th:only-of-type {\n",
       "        vertical-align: middle;\n",
       "    }\n",
       "\n",
       "    .dataframe tbody tr th {\n",
       "        vertical-align: top;\n",
       "    }\n",
       "\n",
       "    .dataframe thead th {\n",
       "        text-align: right;\n",
       "    }\n",
       "</style>\n",
       "<table border=\"1\" class=\"dataframe\">\n",
       "  <thead>\n",
       "    <tr style=\"text-align: right;\">\n",
       "      <th></th>\n",
       "      <th>review</th>\n",
       "      <th>sentiment</th>\n",
       "    </tr>\n",
       "  </thead>\n",
       "  <tbody>\n",
       "    <tr>\n",
       "      <th>0</th>\n",
       "      <td>One of the other reviewers has mentioned that after watching just 1 Oz episode you'll be hooked. They are right, as this is exactly what happened with me.  The first thing that struck me about Oz was its brutality and unflinching scenes of violen...</td>\n",
       "      <td>positive</td>\n",
       "    </tr>\n",
       "    <tr>\n",
       "      <th>1</th>\n",
       "      <td>A wonderful little production.   The filming technique is very unassuming- very old-time-BBC fashion and gives a comforting, and sometimes discomforting, sense of realism to the entire piece.   The actors are extremely well chosen- Michael Sheen ...</td>\n",
       "      <td>positive</td>\n",
       "    </tr>\n",
       "    <tr>\n",
       "      <th>2</th>\n",
       "      <td>I thought this was a wonderful way to spend time on a too hot summer weekend, sitting in the air conditioned theater and watching a light-hearted comedy. The plot is simplistic, but the dialogue is witty and the characters are likable (even the w...</td>\n",
       "      <td>positive</td>\n",
       "    </tr>\n",
       "    <tr>\n",
       "      <th>3</th>\n",
       "      <td>Basically there's a family where a little boy (Jake) thinks there's a zombie in his closet &amp; his parents are fighting all the time.  This movie is slower than a soap opera... and suddenly, Jake decides to become Rambo and kill the zombie.  OK, fi...</td>\n",
       "      <td>negative</td>\n",
       "    </tr>\n",
       "    <tr>\n",
       "      <th>4</th>\n",
       "      <td>Petter Mattei's \"Love in the Time of Money\" is a visually stunning film to watch. Mr. Mattei offers us a vivid portrait about human relations. This is a movie that seems to be telling us what money, power and success do to people in the different...</td>\n",
       "      <td>positive</td>\n",
       "    </tr>\n",
       "  </tbody>\n",
       "</table>\n",
       "</div>"
      ],
      "text/plain": [
       "                                                                                                                                                                                                                                                      review  \\\n",
       "0  One of the other reviewers has mentioned that after watching just 1 Oz episode you'll be hooked. They are right, as this is exactly what happened with me.  The first thing that struck me about Oz was its brutality and unflinching scenes of violen...   \n",
       "1  A wonderful little production.   The filming technique is very unassuming- very old-time-BBC fashion and gives a comforting, and sometimes discomforting, sense of realism to the entire piece.   The actors are extremely well chosen- Michael Sheen ...   \n",
       "2  I thought this was a wonderful way to spend time on a too hot summer weekend, sitting in the air conditioned theater and watching a light-hearted comedy. The plot is simplistic, but the dialogue is witty and the characters are likable (even the w...   \n",
       "3  Basically there's a family where a little boy (Jake) thinks there's a zombie in his closet & his parents are fighting all the time.  This movie is slower than a soap opera... and suddenly, Jake decides to become Rambo and kill the zombie.  OK, fi...   \n",
       "4  Petter Mattei's \"Love in the Time of Money\" is a visually stunning film to watch. Mr. Mattei offers us a vivid portrait about human relations. This is a movie that seems to be telling us what money, power and success do to people in the different...   \n",
       "\n",
       "  sentiment  \n",
       "0  positive  \n",
       "1  positive  \n",
       "2  positive  \n",
       "3  negative  \n",
       "4  positive  "
      ]
     },
     "execution_count": 4,
     "metadata": {},
     "output_type": "execute_result"
    }
   ],
   "source": [
    "#Remove HTML characters\n",
    "df_movies['review']=df_movies['review'].apply(lambda x: x.replace('<br />',' '))\n",
    "df_movies.head(5)"
   ]
  },
  {
   "cell_type": "code",
   "execution_count": 5,
   "id": "7e3ab43b",
   "metadata": {},
   "outputs": [],
   "source": [
    "#Model used for every dataset\n",
    "model = SentenceTransformer(\"paraphrase-multilingual-mpnet-base-v2\")"
   ]
  },
  {
   "cell_type": "code",
   "execution_count": 30,
   "id": "eab81346",
   "metadata": {},
   "outputs": [
    {
     "data": {
      "application/vnd.jupyter.widget-view+json": {
       "model_id": "5618e50622f34d328303ea03f5eda14d",
       "version_major": 2,
       "version_minor": 0
      },
      "text/plain": [
       "Batches:   0%|          | 0/782 [00:00<?, ?it/s]"
      ]
     },
     "metadata": {},
     "output_type": "display_data"
    }
   ],
   "source": [
    "#In case you want to retrain\n",
    "#IMDB_Dataset_embeddings=np.array(model.encode(list(df_movies['review']), \n",
    "#                                            show_progress_bar=True,batch_size=64))\n",
    "#with open(embeddings_path+'IMDB_Dataset_embeddings.npy', 'wb') as f:\n",
    "#     np.save(f,IMDB_Dataset_embeddings)"
   ]
  },
  {
   "cell_type": "code",
   "execution_count": 6,
   "id": "ec77bf4e",
   "metadata": {},
   "outputs": [
    {
     "data": {
      "text/plain": [
       "0    positive\n",
       "1    positive\n",
       "2    positive\n",
       "3    negative\n",
       "4    positive\n",
       "Name: sentiment, dtype: object"
      ]
     },
     "execution_count": 6,
     "metadata": {},
     "output_type": "execute_result"
    }
   ],
   "source": [
    "df_movies['sentiment'].head(5)"
   ]
  },
  {
   "cell_type": "code",
   "execution_count": 13,
   "id": "86cee586",
   "metadata": {},
   "outputs": [],
   "source": [
    "#I save them with integer arrays and with their labels\n",
    "label_dict={'positive':1,'negative':-1}\n",
    "with open(embeddings_path+'IMDB_Dataset_labels.npy', 'wb') as f:\n",
    "     np.save(f,np.array(df_movies['sentiment'].apply(lambda x: label_dict[x])))"
   ]
  },
  {
   "cell_type": "code",
   "execution_count": 14,
   "id": "817b50e7",
   "metadata": {},
   "outputs": [],
   "source": [
    "#Embeddings saved in:\n",
    "with open(embeddings_path+'IMDB_Dataset_embeddings.npy', 'rb') as f:\n",
    "     IMDB_Dataset_embeddings=np.load(f)"
   ]
  },
  {
   "cell_type": "markdown",
   "id": "1dbfcc02",
   "metadata": {},
   "source": [
    "# Open sentiment analysis dataset"
   ]
  },
  {
   "cell_type": "markdown",
   "id": "502b1691",
   "metadata": {},
   "source": [
    "Dataset from https://github.com/charlesmalafosse/open-dataset-for-sentiment-analysis"
   ]
  },
  {
   "cell_type": "markdown",
   "id": "97506a7b",
   "metadata": {},
   "source": [
    "### ES teams"
   ]
  },
  {
   "cell_type": "code",
   "execution_count": 18,
   "id": "7628e393",
   "metadata": {
    "scrolled": true
   },
   "outputs": [
    {
     "data": {
      "text/html": [
       "<div>\n",
       "<style scoped>\n",
       "    .dataframe tbody tr th:only-of-type {\n",
       "        vertical-align: middle;\n",
       "    }\n",
       "\n",
       "    .dataframe tbody tr th {\n",
       "        vertical-align: top;\n",
       "    }\n",
       "\n",
       "    .dataframe thead th {\n",
       "        text-align: right;\n",
       "    }\n",
       "</style>\n",
       "<table border=\"1\" class=\"dataframe\">\n",
       "  <thead>\n",
       "    <tr style=\"text-align: right;\">\n",
       "      <th></th>\n",
       "      <th>tweet_text</th>\n",
       "      <th>sentiment</th>\n",
       "      <th>sentiment_score</th>\n",
       "    </tr>\n",
       "  </thead>\n",
       "  <tbody>\n",
       "    <tr>\n",
       "      <th>0</th>\n",
       "      <td>Alisson puede estar más tranquilo, no cargará con el peso de ser el arquero mas caro de la historia. Si es que eso le pesaba en algo. Gracias @ChelseaFC</td>\n",
       "      <td>POSITIVE</td>\n",
       "      <td>0.745924</td>\n",
       "    </tr>\n",
       "    <tr>\n",
       "      <th>1</th>\n",
       "      <td>@iPincheViky @ChelseaFC Es que el director ejecutivo es mujer. So... Jajajajjaa.</td>\n",
       "      <td>NEUTRAL</td>\n",
       "      <td>0.827012</td>\n",
       "    </tr>\n",
       "    <tr>\n",
       "      <th>2</th>\n",
       "      <td>Upto £100 #freebets &amp;gt; https://t.co/cbjeMXI99f #lol #gunners #matchedbetting #c4racing #cheltenhamfestival https://t.co/dg8clEuqku</td>\n",
       "      <td>NEUTRAL</td>\n",
       "      <td>0.930982</td>\n",
       "    </tr>\n",
       "    <tr>\n",
       "      <th>3</th>\n",
       "      <td>Bobby Duncan, primo de Steven Gerrard, deja la cantera del #ManCity para firmar por el #Liverpool https://t.co/6uMcVrYmgM</td>\n",
       "      <td>NEUTRAL</td>\n",
       "      <td>0.906872</td>\n",
       "    </tr>\n",
       "    <tr>\n",
       "      <th>4</th>\n",
       "      <td>@TorreiraForeva @lepvtron @Arsenal @IntChampionsCup Leon bailey or Federico cheisa</td>\n",
       "      <td>NEUTRAL</td>\n",
       "      <td>0.942406</td>\n",
       "    </tr>\n",
       "  </tbody>\n",
       "</table>\n",
       "</div>"
      ],
      "text/plain": [
       "                                                                                                                                                 tweet_text  \\\n",
       "0  Alisson puede estar más tranquilo, no cargará con el peso de ser el arquero mas caro de la historia. Si es que eso le pesaba en algo. Gracias @ChelseaFC   \n",
       "1                                                                          @iPincheViky @ChelseaFC Es que el director ejecutivo es mujer. So... Jajajajjaa.   \n",
       "2                      Upto £100 #freebets &gt; https://t.co/cbjeMXI99f #lol #gunners #matchedbetting #c4racing #cheltenhamfestival https://t.co/dg8clEuqku   \n",
       "3                                 Bobby Duncan, primo de Steven Gerrard, deja la cantera del #ManCity para firmar por el #Liverpool https://t.co/6uMcVrYmgM   \n",
       "4                                                                        @TorreiraForeva @lepvtron @Arsenal @IntChampionsCup Leon bailey or Federico cheisa   \n",
       "\n",
       "  sentiment  sentiment_score  \n",
       "0  POSITIVE         0.745924  \n",
       "1   NEUTRAL         0.827012  \n",
       "2   NEUTRAL         0.930982  \n",
       "3   NEUTRAL         0.906872  \n",
       "4   NEUTRAL         0.942406  "
      ]
     },
     "execution_count": 18,
     "metadata": {},
     "output_type": "execute_result"
    }
   ],
   "source": [
    "df_ES_teams=pd.read_csv(datasets_path+'betsentiment-ES-tweets-sentiment-teams.csv',encoding='latin-1').drop(\\\n",
    "                        ['tweet_id','tweet_date_created','language'],axis=1)\n",
    "df_ES_teams=df_ES_teams.dropna(axis=0) #Quito rows con Nones\n",
    "df_ES_teams=df_ES_teams[df_ES_teams.sentiment!='MIXED']#Quitamos tweets con la categoria mixed\n",
    "df_ES_teams.loc[:,'sentiment_score']=df_ES_teams['sentiment_score'].apply(eval)#Paso de string a dict\n",
    "df_ES_teams['sentiment_score']=df_ES_teams['sentiment_score'].apply(lambda x: max(x.values())) #Me quedo con la puntuación del sentimiento más probable\n",
    "df_ES_teams=df_ES_teams[df_ES_teams.sentiment_score>0.65] #Me quedo con las que tengan una confianza mayor de 0.65\n",
    "df_ES_teams.head()"
   ]
  },
  {
   "cell_type": "code",
   "execution_count": 19,
   "id": "c5bdb029",
   "metadata": {},
   "outputs": [
    {
     "data": {
      "text/plain": [
       "NEUTRAL     91263\n",
       "POSITIVE     5276\n",
       "NEGATIVE     3380\n",
       "Name: sentiment, dtype: int64"
      ]
     },
     "execution_count": 19,
     "metadata": {},
     "output_type": "execute_result"
    }
   ],
   "source": [
    "df_ES_teams.sentiment.value_counts()"
   ]
  },
  {
   "cell_type": "code",
   "execution_count": 20,
   "id": "306afbe4",
   "metadata": {},
   "outputs": [],
   "source": [
    "np.random.seed(42)\n",
    "#Como hay pocos de negativo y positivo, cojo todos\n",
    "ES_teams_negativo=df_ES_teams[df_ES_teams.sentiment=='NEGATIVE']\n",
    "ES_teams_positivo=df_ES_teams[df_ES_teams.sentiment=='POSITIVE']\n",
    "#Para neutro elijo la mitad de lo que busco y con el siguiente dataset haré la otra mitad\n",
    "n=8000\n",
    "ES_teams_neutral=df_ES_teams[df_ES_teams.sentiment=='NEUTRAL']\n",
    "ES_teams_neutral=ES_teams_neutral.iloc[np.random.randint(0, len(ES_teams_neutral), n)]\n",
    "ES_teams=pd.concat([ES_teams_positivo,ES_teams_negativo,ES_teams_neutral]).drop(['sentiment_score'],axis=1)"
   ]
  },
  {
   "cell_type": "code",
   "execution_count": 21,
   "id": "9052c667",
   "metadata": {},
   "outputs": [
    {
     "data": {
      "text/plain": [
       "NEUTRAL     8000\n",
       "POSITIVE    5276\n",
       "NEGATIVE    3380\n",
       "Name: sentiment, dtype: int64"
      ]
     },
     "execution_count": 21,
     "metadata": {},
     "output_type": "execute_result"
    }
   ],
   "source": [
    "ES_teams.sentiment.value_counts()"
   ]
  },
  {
   "cell_type": "markdown",
   "id": "35a20c46",
   "metadata": {},
   "source": [
    "### ES World Cup"
   ]
  },
  {
   "cell_type": "code",
   "execution_count": 24,
   "id": "11e7ca95",
   "metadata": {
    "scrolled": true
   },
   "outputs": [
    {
     "data": {
      "text/html": [
       "<div>\n",
       "<style scoped>\n",
       "    .dataframe tbody tr th:only-of-type {\n",
       "        vertical-align: middle;\n",
       "    }\n",
       "\n",
       "    .dataframe tbody tr th {\n",
       "        vertical-align: top;\n",
       "    }\n",
       "\n",
       "    .dataframe thead th {\n",
       "        text-align: right;\n",
       "    }\n",
       "</style>\n",
       "<table border=\"1\" class=\"dataframe\">\n",
       "  <thead>\n",
       "    <tr style=\"text-align: right;\">\n",
       "      <th></th>\n",
       "      <th>tweet_text</th>\n",
       "      <th>sentiment</th>\n",
       "      <th>sentiment_score</th>\n",
       "    </tr>\n",
       "  </thead>\n",
       "  <tbody>\n",
       "    <tr>\n",
       "      <th>1</th>\n",
       "      <td>#MarioPereyraDT\\n\"Tenemos que jugarle a Francia con el mismo equipo\" https://t.co/15ccsyMtOi \\n\\n#SomosArgentina #Cadena3Mundial https://t.co/aNUZMjDkaR</td>\n",
       "      <td>NEUTRAL</td>\n",
       "      <td>0.878757</td>\n",
       "    </tr>\n",
       "    <tr>\n",
       "      <th>3</th>\n",
       "      <td>Si llega a ser la despedida, no será la mejor...\\nPero casi que quiero obligar a todos a mirar 4 años atrás y ver todo lo que, atrás de este tipo, lograron jugadores, dirigentes y todos los que forman parte de @Argentina \\nGracias por hacernos me...</td>\n",
       "      <td>POSITIVE</td>\n",
       "      <td>0.686508</td>\n",
       "    </tr>\n",
       "    <tr>\n",
       "      <th>6</th>\n",
       "      <td>Hoy no existen partidos políticos, sólo existe @miseleccionmx.</td>\n",
       "      <td>NEUTRAL</td>\n",
       "      <td>0.835554</td>\n",
       "    </tr>\n",
       "    <tr>\n",
       "      <th>7</th>\n",
       "      <td>Hoy no existen partidos políticos, sólo existe @miseleccionmx.</td>\n",
       "      <td>NEUTRAL</td>\n",
       "      <td>0.835554</td>\n",
       "    </tr>\n",
       "    <tr>\n",
       "      <th>8</th>\n",
       "      <td>Festejan #cancunenses triunfo de la selección mexicana en #Rusia2018 @miseleccionmx ????  https://t.co/5pLA84L9MA</td>\n",
       "      <td>NEUTRAL</td>\n",
       "      <td>0.897296</td>\n",
       "    </tr>\n",
       "  </tbody>\n",
       "</table>\n",
       "</div>"
      ],
      "text/plain": [
       "                                                                                                                                                                                                                                                  tweet_text  \\\n",
       "1                                                                                                   #MarioPereyraDT\\n\"Tenemos que jugarle a Francia con el mismo equipo\" https://t.co/15ccsyMtOi \\n\\n#SomosArgentina #Cadena3Mundial https://t.co/aNUZMjDkaR   \n",
       "3  Si llega a ser la despedida, no será la mejor...\\nPero casi que quiero obligar a todos a mirar 4 años atrás y ver todo lo que, atrás de este tipo, lograron jugadores, dirigentes y todos los que forman parte de @Argentina \\nGracias por hacernos me...   \n",
       "6                                                                                                                                                                                             Hoy no existen partidos políticos, sólo existe @miseleccionmx.   \n",
       "7                                                                                                                                                                                             Hoy no existen partidos políticos, sólo existe @miseleccionmx.   \n",
       "8                                                                                                                                          Festejan #cancunenses triunfo de la selección mexicana en #Rusia2018 @miseleccionmx ????  https://t.co/5pLA84L9MA   \n",
       "\n",
       "  sentiment  sentiment_score  \n",
       "1   NEUTRAL         0.878757  \n",
       "3  POSITIVE         0.686508  \n",
       "6   NEUTRAL         0.835554  \n",
       "7   NEUTRAL         0.835554  \n",
       "8   NEUTRAL         0.897296  "
      ]
     },
     "execution_count": 24,
     "metadata": {},
     "output_type": "execute_result"
    }
   ],
   "source": [
    "df_ES_worldcup=pd.read_csv(datasets_path+'betsentiment-ES-tweets-sentiment-worldcup-001.csv',encoding='latin-1').drop(\\\n",
    "                    ['tweet_id','tweet_date_created','language'],axis=1)\n",
    "df_ES_worldcup=df_ES_worldcup.dropna(axis=0) #Quito rows con Nones\n",
    "df_ES_worldcup=df_ES_worldcup[df_ES_worldcup.sentiment!='MIXED']#Quitamos tweets con al categoria mixed\n",
    "df_ES_worldcup.loc[:,'sentiment_score']=df_ES_worldcup['sentiment_score'].apply(eval)#Paso de string a dict\n",
    "df_ES_worldcup['sentiment_score']=df_ES_worldcup['sentiment_score'].apply(lambda x: max(x.values())) #Me quedo con la puntuación del sentimiento elegido\n",
    "df_ES_worldcup=df_ES_worldcup[df_ES_worldcup.sentiment_score>0.65] #Me quedo con tweets con una confianza del sentimiento alta\n",
    "df_ES_worldcup.head()"
   ]
  },
  {
   "cell_type": "code",
   "execution_count": 25,
   "id": "050d7152",
   "metadata": {},
   "outputs": [
    {
     "data": {
      "text/plain": [
       "NEUTRAL     102166\n",
       "POSITIVE     14227\n",
       "NEGATIVE      7613\n",
       "Name: sentiment, dtype: int64"
      ]
     },
     "execution_count": 25,
     "metadata": {},
     "output_type": "execute_result"
    }
   ],
   "source": [
    "df_ES_worldcup.sentiment.value_counts()"
   ]
  },
  {
   "cell_type": "code",
   "execution_count": 26,
   "id": "816c55d9",
   "metadata": {},
   "outputs": [],
   "source": [
    "np.random.seed(0)\n",
    "\n",
    "#Para negativo cojo todas\n",
    "ES_world_negativo=df_ES_worldcup[df_ES_worldcup.sentiment=='NEGATIVE']\n",
    "#Para positivo cojo las necesarias para llegar a 15k\n",
    "n=15000-len(ES_teams_positivo)\n",
    "ES_world_positivo=df_ES_worldcup[df_ES_worldcup.sentiment=='POSITIVE']\n",
    "ES_world_positivo=ES_world_positivo.iloc[np.random.randint(0, len(ES_world_positivo), n)]\n",
    "#Para neutro cojo 8k\n",
    "n=8000\n",
    "ES_world_neutral=df_ES_worldcup[df_ES_worldcup.sentiment=='NEUTRAL']\n",
    "ES_world_neutral=ES_world_neutral.iloc[np.random.randint(0, len(ES_world_neutral), n)]\n",
    "ES_world=pd.concat([ES_world_positivo,ES_world_negativo,ES_world_neutral]).drop(['sentiment_score'],axis=1)\n"
   ]
  },
  {
   "cell_type": "code",
   "execution_count": 27,
   "id": "dd97b752",
   "metadata": {},
   "outputs": [
    {
     "data": {
      "text/plain": [
       "POSITIVE    9724\n",
       "NEUTRAL     8000\n",
       "NEGATIVE    7613\n",
       "Name: sentiment, dtype: int64"
      ]
     },
     "execution_count": 27,
     "metadata": {},
     "output_type": "execute_result"
    }
   ],
   "source": [
    "ES_world.sentiment.value_counts()"
   ]
  },
  {
   "cell_type": "code",
   "execution_count": 32,
   "id": "bee74d33",
   "metadata": {},
   "outputs": [
    {
     "data": {
      "text/plain": [
       "NEUTRAL     16000\n",
       "POSITIVE    15000\n",
       "NEGATIVE    10993\n",
       "Name: sentiment, dtype: int64"
      ]
     },
     "execution_count": 32,
     "metadata": {},
     "output_type": "execute_result"
    }
   ],
   "source": [
    "#Uno los dos datasets\n",
    "spanish_tweets=pd.concat([ES_world,ES_teams])\n",
    "spanish_tweets.sentiment.value_counts()"
   ]
  },
  {
   "cell_type": "markdown",
   "id": "af15ee1a",
   "metadata": {},
   "source": [
    "### Preprocesado de tweets"
   ]
  },
  {
   "cell_type": "markdown",
   "id": "7cd0722a",
   "metadata": {},
   "source": [
    "Hay que hacer una pequeña limpieza de los tweets para los embeddings"
   ]
  },
  {
   "cell_type": "code",
   "execution_count": 33,
   "id": "9b468bb3",
   "metadata": {},
   "outputs": [
    {
     "data": {
      "text/html": [
       "<div>\n",
       "<style scoped>\n",
       "    .dataframe tbody tr th:only-of-type {\n",
       "        vertical-align: middle;\n",
       "    }\n",
       "\n",
       "    .dataframe tbody tr th {\n",
       "        vertical-align: top;\n",
       "    }\n",
       "\n",
       "    .dataframe thead th {\n",
       "        text-align: right;\n",
       "    }\n",
       "</style>\n",
       "<table border=\"1\" class=\"dataframe\">\n",
       "  <thead>\n",
       "    <tr style=\"text-align: right;\">\n",
       "      <th></th>\n",
       "      <th>tweet_text</th>\n",
       "      <th>sentiment</th>\n",
       "    </tr>\n",
       "  </thead>\n",
       "  <tbody>\n",
       "    <tr>\n",
       "      <th>37779</th>\n",
       "      <td>Nunca me había levantado tan feliz a las 5:00 am, vamos que vamoooooooooooos</td>\n",
       "      <td>POSITIVE</td>\n",
       "    </tr>\n",
       "    <tr>\n",
       "      <th>151440</th>\n",
       "      <td>Me encanta lo que el fut logra hacer.</td>\n",
       "      <td>POSITIVE</td>\n",
       "    </tr>\n",
       "    <tr>\n",
       "      <th>137541</th>\n",
       "      <td>Vamos Argentina que hoy será un gran día! Con mucha fe que hoy se gana! ????????????????????????</td>\n",
       "      <td>POSITIVE</td>\n",
       "    </tr>\n",
       "    <tr>\n",
       "      <th>44939</th>\n",
       "      <td>Feliz cumpleaños a dos D10SES Que me hacen disfrutar del deporte mas lindo e interesante del ?... Gracias por tanto.</td>\n",
       "      <td>POSITIVE</td>\n",
       "    </tr>\n",
       "    <tr>\n",
       "      <th>183969</th>\n",
       "      <td>Ahora se viene mi selección francesa de fútbol. VAMOS CARAJO</td>\n",
       "      <td>POSITIVE</td>\n",
       "    </tr>\n",
       "  </tbody>\n",
       "</table>\n",
       "</div>"
      ],
      "text/plain": [
       "                                                                                                                  tweet_text  \\\n",
       "37779                                           Nunca me había levantado tan feliz a las 5:00 am, vamos que vamoooooooooooos   \n",
       "151440                                                                                 Me encanta lo que el fut logra hacer.   \n",
       "137541                      Vamos Argentina que hoy será un gran día! Con mucha fe que hoy se gana! ????????????????????????   \n",
       "44939   Feliz cumpleaños a dos D10SES Que me hacen disfrutar del deporte mas lindo e interesante del ?... Gracias por tanto.   \n",
       "183969                                                          Ahora se viene mi selección francesa de fútbol. VAMOS CARAJO   \n",
       "\n",
       "       sentiment  \n",
       "37779   POSITIVE  \n",
       "151440  POSITIVE  \n",
       "137541  POSITIVE  \n",
       "44939   POSITIVE  \n",
       "183969  POSITIVE  "
      ]
     },
     "execution_count": 33,
     "metadata": {},
     "output_type": "execute_result"
    }
   ],
   "source": [
    "spanish_tweets.tweet_text=spanish_tweets.tweet_text.apply(lambda x: BeautifulSoup(x).get_text()) #Traduzco caracteres de HTML\n",
    "#Quito cuentas y hashtags para no sesgar al modelo y asociar un sentimiento a alguna cuenta o hashtag en concreto por el dataset\n",
    "spanish_tweets.tweet_text=spanish_tweets.tweet_text.apply(lambda x: re.sub(\"(@\\S+)|(#\\S+)\", \" \", x))\n",
    "spanish_tweets.tweet_text=spanish_tweets.tweet_text.apply(lambda x: re.sub(\"(\\w+:\\/\\/\\S+)\", \" \", x)) #Quito enlaces\n",
    "spanish_tweets.tweet_text=spanish_tweets.tweet_text.apply(lambda x: re.sub(\"\\n\", \" \", x)) #Quito saltos de linea\n",
    "spanish_tweets.tweet_text=spanish_tweets.tweet_text.apply(lambda x: ' '.join(x.split())) #Quito espacios extra\n",
    "spanish_tweets.head()"
   ]
  },
  {
   "cell_type": "code",
   "execution_count": 62,
   "id": "5645b9af",
   "metadata": {},
   "outputs": [
    {
     "data": {
      "application/vnd.jupyter.widget-view+json": {
       "model_id": "d0a5b3a7648b4857abbe5b3475221c89",
       "version_major": 2,
       "version_minor": 0
      },
      "text/plain": [
       "Batches:   0%|          | 0/329 [00:00<?, ?it/s]"
      ]
     },
     "metadata": {},
     "output_type": "display_data"
    }
   ],
   "source": [
    "#En caso de querer reentrenar\n",
    "#spanish_sentiment_embeddings=np.array(model.encode(list(spanish_tweets['tweet_text']), \n",
    "#                                           show_progress_bar=True,batch_size=128))\n",
    "#with open(embeddings_path+'spanish_tweets_sentiment_embeddings.npy', 'wb') as f:\n",
    "#     np.save(f,spanish_sentiment_embeddings)"
   ]
  },
  {
   "cell_type": "code",
   "execution_count": 63,
   "id": "a32f9a5e",
   "metadata": {},
   "outputs": [],
   "source": [
    "#Lo guardo también con sus etiquetas\n",
    "label_dict={'POSITIVE':1,'NEUTRAL':0,'NEGATIVE':-1}\n",
    "with open(embeddings_path+'spanish_tweets_sentiment_labels.npy', 'wb') as f:\n",
    "     np.save(f,np.array(spanish_tweets['sentiment'].apply(lambda x: label_dict[x])))"
   ]
  },
  {
   "cell_type": "code",
   "execution_count": 64,
   "id": "2f6e3634",
   "metadata": {},
   "outputs": [],
   "source": [
    "#Los embeddings están en:\n",
    "with open(embeddings_path+'spanish_tweets_sentiment_embeddings.npy', 'rb') as f:\n",
    "     spanish_sentiment_embeddings=np.load(f)"
   ]
  },
  {
   "cell_type": "markdown",
   "id": "67f6cd9b",
   "metadata": {},
   "source": [
    "## Hugging face datasets"
   ]
  },
  {
   "cell_type": "markdown",
   "id": "e34f07d3",
   "metadata": {},
   "source": [
    "Estos datasets se extraen de la librería *datasets* de Hugging Face"
   ]
  },
  {
   "cell_type": "markdown",
   "id": "7fd0dc2b",
   "metadata": {},
   "source": [
    "### Dataset de reviews de películas en español"
   ]
  },
  {
   "cell_type": "code",
   "execution_count": 36,
   "id": "950ad92b",
   "metadata": {},
   "outputs": [
    {
     "name": "stderr",
     "output_type": "stream",
     "text": [
      "Using custom data configuration default\n",
      "Reusing dataset muchocine (C:\\Users\\marcb\\.cache\\huggingface\\datasets\\muchocine\\default\\1.1.1\\3ed5582584cd84ef722606a3d725ef18fd4647d63195fef05c47683e5a056ccd)\n"
     ]
    },
    {
     "data": {
      "application/vnd.jupyter.widget-view+json": {
       "model_id": "ae0e5010c3f94942ae180843ccd7cb3f",
       "version_major": 2,
       "version_minor": 0
      },
      "text/plain": [
       "  0%|          | 0/1 [00:00<?, ?it/s]"
      ]
     },
     "metadata": {},
     "output_type": "display_data"
    }
   ],
   "source": [
    "dataset_reviews_es = load_dataset(\"muchocine\")"
   ]
  },
  {
   "cell_type": "code",
   "execution_count": 37,
   "id": "ce96b107",
   "metadata": {},
   "outputs": [
    {
     "data": {
      "text/plain": [
       "POSITIVE    1350\n",
       "NEGATIVE    1273\n",
       "NEUTRAL     1249\n",
       "Name: star_rating, dtype: int64"
      ]
     },
     "execution_count": 37,
     "metadata": {},
     "output_type": "execute_result"
    }
   ],
   "source": [
    "#El texto usado sera 'review_summary' por que 'review_body' es muy largo\n",
    "es_movies=pd.DataFrame(dataset_reviews_es['train']).drop('review_body',axis=1)\n",
    "# Paso las puntuaciones de 5 estrellas a 3 categorias. 3=NEUTRAl\n",
    "es_movies.star_rating=pd.cut(es_movies.star_rating,3,labels=['NEGATIVE','NEUTRAL','POSITIVE']) \n",
    "es_movies.star_rating.value_counts()"
   ]
  },
  {
   "cell_type": "code",
   "execution_count": 38,
   "id": "6b1a46d1",
   "metadata": {
    "scrolled": true
   },
   "outputs": [
    {
     "data": {
      "text/html": [
       "<div>\n",
       "<style scoped>\n",
       "    .dataframe tbody tr th:only-of-type {\n",
       "        vertical-align: middle;\n",
       "    }\n",
       "\n",
       "    .dataframe tbody tr th {\n",
       "        vertical-align: top;\n",
       "    }\n",
       "\n",
       "    .dataframe thead th {\n",
       "        text-align: right;\n",
       "    }\n",
       "</style>\n",
       "<table border=\"1\" class=\"dataframe\">\n",
       "  <thead>\n",
       "    <tr style=\"text-align: right;\">\n",
       "      <th></th>\n",
       "      <th>review_summary</th>\n",
       "      <th>star_rating</th>\n",
       "    </tr>\n",
       "  </thead>\n",
       "  <tbody>\n",
       "    <tr>\n",
       "      <th>0</th>\n",
       "      <td>May, ¿quieres ser mi amigo?</td>\n",
       "      <td>POSITIVE</td>\n",
       "    </tr>\n",
       "    <tr>\n",
       "      <th>1</th>\n",
       "      <td>Cómo ponerse en la piel de un kamikaze</td>\n",
       "      <td>POSITIVE</td>\n",
       "    </tr>\n",
       "    <tr>\n",
       "      <th>2</th>\n",
       "      <td>Silicona, esteroides, pactos demoníacos y otras basuras habituales son la base que sustentan esta aberración. De vergüenza.</td>\n",
       "      <td>NEGATIVE</td>\n",
       "    </tr>\n",
       "    <tr>\n",
       "      <th>3</th>\n",
       "      <td>Una comedia entretenida y poca cosa más para ver una tarde de domingo</td>\n",
       "      <td>NEGATIVE</td>\n",
       "    </tr>\n",
       "    <tr>\n",
       "      <th>4</th>\n",
       "      <td>Luc Besson sabe manejar la acción, y aquí lo demuestra de nuevo manteniendo todo el film un ritmo trepidante sin apenas descanso.</td>\n",
       "      <td>POSITIVE</td>\n",
       "    </tr>\n",
       "  </tbody>\n",
       "</table>\n",
       "</div>"
      ],
      "text/plain": [
       "                                                                                                                       review_summary  \\\n",
       "0                                                                                                        May, ¿quieres ser mi amigo?    \n",
       "1                                                                                             Cómo ponerse en la piel de un kamikaze    \n",
       "2        Silicona, esteroides, pactos demoníacos y otras basuras habituales son la base que sustentan esta aberración. De vergüenza.    \n",
       "3                                                              Una comedia entretenida y poca cosa más para ver una tarde de domingo    \n",
       "4  Luc Besson sabe manejar la acción, y aquí lo demuestra de nuevo manteniendo todo el film un ritmo trepidante sin apenas descanso.    \n",
       "\n",
       "  star_rating  \n",
       "0    POSITIVE  \n",
       "1    POSITIVE  \n",
       "2    NEGATIVE  \n",
       "3    NEGATIVE  \n",
       "4    POSITIVE  "
      ]
     },
     "execution_count": 38,
     "metadata": {},
     "output_type": "execute_result"
    }
   ],
   "source": [
    "es_movies.head()"
   ]
  },
  {
   "cell_type": "code",
   "execution_count": 39,
   "id": "85b32eb5",
   "metadata": {},
   "outputs": [],
   "source": [
    "#Reentreno de embeddings\n",
    "#es_movies_embeddings=np.array(model.encode(list(es_movies['review_summary']), \n",
    "#                                            show_progress_bar=True,batch_size=128))\n",
    "#with open(embeddings_path+'es_movies_embeddings.npy', 'wb') as f:\n",
    "#     np.save(f,es_movies_embeddings)"
   ]
  },
  {
   "cell_type": "code",
   "execution_count": 40,
   "id": "456c41d9",
   "metadata": {},
   "outputs": [],
   "source": [
    "#Guardo también labels\n",
    "#Lo guardo también con sus etiquetas\n",
    "label_dict={'POSITIVE':1,'NEUTRAL':0,'NEGATIVE':-1}\n",
    "with open(embeddings_path+'es_movies_labels.npy', 'wb') as f:\n",
    "     np.save(f,np.array(es_movies['star_rating'].apply(lambda x: label_dict[x])))"
   ]
  },
  {
   "cell_type": "code",
   "execution_count": null,
   "id": "df314ad7",
   "metadata": {},
   "outputs": [],
   "source": [
    "#Embeddings en:\n",
    "with open(embeddings_path+'es_movies_embeddings.npy', 'rb') as f:\n",
    "     es_movies_embeddings=np.load(f)"
   ]
  },
  {
   "cell_type": "markdown",
   "id": "7a5fc28c",
   "metadata": {},
   "source": [
    "### Reviews de amazon en español"
   ]
  },
  {
   "cell_type": "code",
   "execution_count": 41,
   "id": "cda6864f",
   "metadata": {},
   "outputs": [
    {
     "name": "stderr",
     "output_type": "stream",
     "text": [
      "Reusing dataset amazon_reviews_multi (C:\\Users\\marcb\\.cache\\huggingface\\datasets\\amazon_reviews_multi\\es\\1.0.0\\724e94f4b0c6c405ce7e476a6c5ef4f87db30799ad49f765094cf9770e0f7609)\n"
     ]
    },
    {
     "data": {
      "application/vnd.jupyter.widget-view+json": {
       "model_id": "4d4a7d33cf1446c68df59bd7a8edb67a",
       "version_major": 2,
       "version_minor": 0
      },
      "text/plain": [
       "  0%|          | 0/3 [00:00<?, ?it/s]"
      ]
     },
     "metadata": {},
     "output_type": "display_data"
    }
   ],
   "source": [
    "dataset_amazon = load_dataset(\"amazon_reviews_multi\", \"es\")"
   ]
  },
  {
   "cell_type": "code",
   "execution_count": 32,
   "id": "349891af",
   "metadata": {
    "scrolled": false
   },
   "outputs": [
    {
     "data": {
      "text/plain": [
       "DatasetDict({\n",
       "    train: Dataset({\n",
       "        features: ['review_id', 'product_id', 'reviewer_id', 'stars', 'review_body', 'review_title', 'language', 'product_category'],\n",
       "        num_rows: 200000\n",
       "    })\n",
       "    validation: Dataset({\n",
       "        features: ['review_id', 'product_id', 'reviewer_id', 'stars', 'review_body', 'review_title', 'language', 'product_category'],\n",
       "        num_rows: 5000\n",
       "    })\n",
       "    test: Dataset({\n",
       "        features: ['review_id', 'product_id', 'reviewer_id', 'stars', 'review_body', 'review_title', 'language', 'product_category'],\n",
       "        num_rows: 5000\n",
       "    })\n",
       "})"
      ]
     },
     "execution_count": 32,
     "metadata": {},
     "output_type": "execute_result"
    }
   ],
   "source": [
    "dataset_amazon"
   ]
  },
  {
   "cell_type": "code",
   "execution_count": 21,
   "id": "427b0142",
   "metadata": {},
   "outputs": [
    {
     "data": {
      "text/plain": [
       "1    40000\n",
       "2        1\n",
       "dtype: int64"
      ]
     },
     "execution_count": 21,
     "metadata": {},
     "output_type": "execute_result"
    }
   ],
   "source": [
    "pd.Series(dataset_amazon['train']['stars'][:40_001]).value_counts()"
   ]
  },
  {
   "cell_type": "markdown",
   "id": "646e9763",
   "metadata": {},
   "source": [
    "Los datos están ordenados por sus estrellas y hay 40k de cada una. Voy a elegir aleatoriamente 2.5k reviews de cada estrella excepto para las de 3 estrellas que cogeré 5k para tener dataset balanceado de negativo,neutro y positivo"
   ]
  },
  {
   "cell_type": "code",
   "execution_count": 42,
   "id": "21a41f67",
   "metadata": {},
   "outputs": [],
   "source": [
    "np.random.seed(0)\n",
    "num_1,num_2,num_3,num_4,num_5=(np.random.randint(0, 40_000,2_500),np.random.randint(40_000, 80_000,2_500),\n",
    "                               np.random.randint(80_000, 120_000,5_000),np.random.randint(120_000, 160_000,2_500),\n",
    "                               np.random.randint(160_000, 200_000,2_500))\n",
    "nums=list(np.concatenate((num_1,num_2,num_3,num_4,num_5)))"
   ]
  },
  {
   "cell_type": "code",
   "execution_count": 43,
   "id": "50c50b9a",
   "metadata": {},
   "outputs": [],
   "source": [
    "es_reviews=pd.DataFrame(dataset_amazon['train'][nums])[['review_body','stars']]\n",
    "es_reviews.stars=pd.cut(es_reviews.stars,3,labels=['NEGATIVE','NEUTRAL','POSITIVE']) # Paso a 3 categorias. 3=NEUTRAl"
   ]
  },
  {
   "cell_type": "code",
   "execution_count": 44,
   "id": "0195e1d4",
   "metadata": {
    "scrolled": true
   },
   "outputs": [
    {
     "data": {
      "text/html": [
       "<div>\n",
       "<style scoped>\n",
       "    .dataframe tbody tr th:only-of-type {\n",
       "        vertical-align: middle;\n",
       "    }\n",
       "\n",
       "    .dataframe tbody tr th {\n",
       "        vertical-align: top;\n",
       "    }\n",
       "\n",
       "    .dataframe thead th {\n",
       "        text-align: right;\n",
       "    }\n",
       "</style>\n",
       "<table border=\"1\" class=\"dataframe\">\n",
       "  <thead>\n",
       "    <tr style=\"text-align: right;\">\n",
       "      <th></th>\n",
       "      <th>review_body</th>\n",
       "      <th>stars</th>\n",
       "    </tr>\n",
       "  </thead>\n",
       "  <tbody>\n",
       "    <tr>\n",
       "      <th>0</th>\n",
       "      <td>No ajusta correctamente, siempre se queda abierta y colgando. El segundo día se despegó la goma negra de la tapa plateada. Ya la he arrancado.</td>\n",
       "      <td>NEGATIVE</td>\n",
       "    </tr>\n",
       "    <tr>\n",
       "      <th>1</th>\n",
       "      <td>Lo valoré anteriormente con una estrella por que me llegó roto. Posteriormente me envía el fabricante un mail diciéndome que quite la valoración negativa para intentar dar una solución al problema. Pues bien, entro para eliminar esa estrella y, S...</td>\n",
       "      <td>NEGATIVE</td>\n",
       "    </tr>\n",
       "    <tr>\n",
       "      <th>2</th>\n",
       "      <td>alguien tuvo problemas con la batería?? el teléfono hace un año en diciembre pero la batería ya no carga . El problema es que la garantía de la bateria es solamente de 6 meses.</td>\n",
       "      <td>NEGATIVE</td>\n",
       "    </tr>\n",
       "    <tr>\n",
       "      <th>3</th>\n",
       "      <td>Para lo que cuesta debería ser más rápido en cargar y más velocidad de carga. Me decepcionó bastante y estoy arrepentida en haberlo comprado</td>\n",
       "      <td>NEGATIVE</td>\n",
       "    </tr>\n",
       "    <tr>\n",
       "      <th>4</th>\n",
       "      <td>No es la consola que describen. Es el modelo normal.</td>\n",
       "      <td>NEGATIVE</td>\n",
       "    </tr>\n",
       "  </tbody>\n",
       "</table>\n",
       "</div>"
      ],
      "text/plain": [
       "                                                                                                                                                                                                                                                 review_body  \\\n",
       "0                                                                                                             No ajusta correctamente, siempre se queda abierta y colgando. El segundo día se despegó la goma negra de la tapa plateada. Ya la he arrancado.   \n",
       "1  Lo valoré anteriormente con una estrella por que me llegó roto. Posteriormente me envía el fabricante un mail diciéndome que quite la valoración negativa para intentar dar una solución al problema. Pues bien, entro para eliminar esa estrella y, S...   \n",
       "2                                                                           alguien tuvo problemas con la batería?? el teléfono hace un año en diciembre pero la batería ya no carga . El problema es que la garantía de la bateria es solamente de 6 meses.   \n",
       "3                                                                                                               Para lo que cuesta debería ser más rápido en cargar y más velocidad de carga. Me decepcionó bastante y estoy arrepentida en haberlo comprado   \n",
       "4                                                                                                                                                                                                       No es la consola que describen. Es el modelo normal.   \n",
       "\n",
       "      stars  \n",
       "0  NEGATIVE  \n",
       "1  NEGATIVE  \n",
       "2  NEGATIVE  \n",
       "3  NEGATIVE  \n",
       "4  NEGATIVE  "
      ]
     },
     "execution_count": 44,
     "metadata": {},
     "output_type": "execute_result"
    }
   ],
   "source": [
    "es_reviews.head()"
   ]
  },
  {
   "cell_type": "code",
   "execution_count": 35,
   "id": "eb69262d",
   "metadata": {},
   "outputs": [
    {
     "data": {
      "application/vnd.jupyter.widget-view+json": {
       "model_id": "f3aff94d9dc24a33b697a532df9c5ec8",
       "version_major": 2,
       "version_minor": 0
      },
      "text/plain": [
       "Batches:   0%|          | 0/118 [00:00<?, ?it/s]"
      ]
     },
     "metadata": {},
     "output_type": "display_data"
    }
   ],
   "source": [
    "#Reentreno de embeddings\n",
    "#es_reviews_embeddings=np.array(model.encode(list(es_reviews['review_body']), \n",
    "#                                            show_progress_bar=True,batch_size=128))\n",
    "#with open(embeddings_path+'es_reviews_embeddings.npy', 'wb') as f:\n",
    "#     np.save(f,es_reviews_embeddings)"
   ]
  },
  {
   "cell_type": "code",
   "execution_count": 46,
   "id": "15069ee1",
   "metadata": {},
   "outputs": [],
   "source": [
    "#Guardo también labels\n",
    "label_dict={'POSITIVE':1,'NEUTRAL':0,'NEGATIVE':-1}\n",
    "with open(embeddings_path+'es_reviews_labels.npy', 'wb') as f:\n",
    "     np.save(f,np.array(es_reviews['stars'].apply(lambda x: label_dict[x])))"
   ]
  },
  {
   "cell_type": "code",
   "execution_count": 47,
   "id": "a5bea8c5",
   "metadata": {},
   "outputs": [],
   "source": [
    "#Los embeddings:\n",
    "with open(embeddings_path+'es_reviews_embeddings.npy', 'rb') as f:\n",
    "     es_reviews_embeddings=np.load(f)"
   ]
  },
  {
   "cell_type": "markdown",
   "id": "25bfeeab",
   "metadata": {},
   "source": [
    "## UOC tweets"
   ]
  },
  {
   "cell_type": "markdown",
   "id": "91eff5c0",
   "metadata": {},
   "source": [
    "Dataset extraido de https://github.com/jcsobrino/TFM-Analisis_sentimientos_Twitter-UOC"
   ]
  },
  {
   "cell_type": "code",
   "execution_count": 52,
   "id": "49cdba2a",
   "metadata": {},
   "outputs": [
    {
     "data": {
      "text/plain": [
       "(73877, 2)"
      ]
     },
     "execution_count": 52,
     "metadata": {},
     "output_type": "execute_result"
    }
   ],
   "source": [
    "UOC_tweets=pd.read_csv(datasets_path+'global_dataset.csv',header=0,names=['Tweet', 'Sentimiento']).reset_index(drop=True)\n",
    "UOC_tweets.shape"
   ]
  },
  {
   "cell_type": "code",
   "execution_count": 53,
   "id": "0a49f221",
   "metadata": {},
   "outputs": [
    {
     "data": {
      "text/html": [
       "<div>\n",
       "<style scoped>\n",
       "    .dataframe tbody tr th:only-of-type {\n",
       "        vertical-align: middle;\n",
       "    }\n",
       "\n",
       "    .dataframe tbody tr th {\n",
       "        vertical-align: top;\n",
       "    }\n",
       "\n",
       "    .dataframe thead th {\n",
       "        text-align: right;\n",
       "    }\n",
       "</style>\n",
       "<table border=\"1\" class=\"dataframe\">\n",
       "  <thead>\n",
       "    <tr style=\"text-align: right;\">\n",
       "      <th></th>\n",
       "      <th>Tweet</th>\n",
       "      <th>Sentimiento</th>\n",
       "    </tr>\n",
       "  </thead>\n",
       "  <tbody>\n",
       "    <tr>\n",
       "      <th>1</th>\n",
       "      <td>Gonzalo Altozano tras la presentación de su libro 101 españoles y Dios. Divertido, emocionante y brillante.</td>\n",
       "      <td>P</td>\n",
       "    </tr>\n",
       "    <tr>\n",
       "      <th>2</th>\n",
       "      <td>Mañana en Gaceta: TVE, la que pagamos tú y yo, culpa a una becaria de su falsa información sobre el cierre de</td>\n",
       "      <td>N</td>\n",
       "    </tr>\n",
       "    <tr>\n",
       "      <th>4</th>\n",
       "      <td>Más mañana en Gaceta. Amaiur depende de Uxue Barkos para crear grupo propio. ERC no cumple el req. del 15% y el PNV no quiere competencia</td>\n",
       "      <td>N</td>\n",
       "    </tr>\n",
       "    <tr>\n",
       "      <th>5</th>\n",
       "      <td>Muy buenas noches followercetes, mañana va a ser un día bastante mitico para mi, ya os contare...</td>\n",
       "      <td>P</td>\n",
       "    </tr>\n",
       "    <tr>\n",
       "      <th>6</th>\n",
       "      <td>Más de mañana en Gaceta. UPyD contará casi seguro con grupo gracias al Foro Asturias. Eso se dice en el Congreso</td>\n",
       "      <td>P</td>\n",
       "    </tr>\n",
       "  </tbody>\n",
       "</table>\n",
       "</div>"
      ],
      "text/plain": [
       "                                                                                                                                       Tweet  \\\n",
       "1                                Gonzalo Altozano tras la presentación de su libro 101 españoles y Dios. Divertido, emocionante y brillante.   \n",
       "2                              Mañana en Gaceta: TVE, la que pagamos tú y yo, culpa a una becaria de su falsa información sobre el cierre de   \n",
       "4  Más mañana en Gaceta. Amaiur depende de Uxue Barkos para crear grupo propio. ERC no cumple el req. del 15% y el PNV no quiere competencia   \n",
       "5                                          Muy buenas noches followercetes, mañana va a ser un día bastante mitico para mi, ya os contare...   \n",
       "6                           Más de mañana en Gaceta. UPyD contará casi seguro con grupo gracias al Foro Asturias. Eso se dice en el Congreso   \n",
       "\n",
       "  Sentimiento  \n",
       "1           P  \n",
       "2           N  \n",
       "4           N  \n",
       "5           P  \n",
       "6           P  "
      ]
     },
     "execution_count": 53,
     "metadata": {},
     "output_type": "execute_result"
    }
   ],
   "source": [
    "UOC_tweets=UOC_tweets[UOC_tweets.Sentimiento!='NONE'] #Quito los que no tienen sentimiento\n",
    "UOC_tweets.Tweet=UOC_tweets.Tweet.apply(lambda x: re.sub(\"(@\\S+)|(#\\S+)\", \" \", x)) #Quito hashtags y menciones\n",
    "UOC_tweets.Tweet=UOC_tweets.Tweet.apply(lambda x: re.sub(\"(\\w+:\\/\\/\\S+)\", \" \", x)) #Quito enlaces\n",
    "UOC_tweets.Tweet=UOC_tweets.Tweet.apply(lambda x: ' '.join(x.split())) #Quito espacios extra\n",
    "UOC_tweets.head()"
   ]
  },
  {
   "cell_type": "code",
   "execution_count": 54,
   "id": "22a9181c",
   "metadata": {},
   "outputs": [
    {
     "data": {
      "text/plain": [
       "P      26846\n",
       "N      20110\n",
       "NEU     3326\n",
       "Name: Sentimiento, dtype: int64"
      ]
     },
     "execution_count": 54,
     "metadata": {},
     "output_type": "execute_result"
    }
   ],
   "source": [
    "UOC_tweets['Sentimiento'].value_counts()"
   ]
  },
  {
   "cell_type": "code",
   "execution_count": 55,
   "id": "ce720b90",
   "metadata": {},
   "outputs": [],
   "source": [
    "#Voy a elegir este dataset para balancear las 3 clases obtenidas con otros datasets. Voy a coger todos de neutral, 3k de negativo y 1k de positivo\n",
    "np.random.seed(0)\n",
    "n=3000\n",
    "UOC_tweets_negativo=UOC_tweets[UOC_tweets.Sentimiento=='N']\n",
    "UOC_tweets_negativo=UOC_tweets_negativo.iloc[np.random.randint(0, len(UOC_tweets_negativo), n)]\n",
    "\n",
    "n=1000\n",
    "UOC_tweets_positivo=UOC_tweets[UOC_tweets.Sentimiento=='P']\n",
    "UOC_tweets_positivo=UOC_tweets_positivo.iloc[np.random.randint(0, len(UOC_tweets_positivo), n)]\n",
    "\n",
    "UOC_tweets_neutral=UOC_tweets[UOC_tweets.Sentimiento=='NEU']\n",
    "\n",
    "UOC_tweets_filtrado=pd.concat([UOC_tweets_positivo,UOC_tweets_negativo,UOC_tweets_neutral])"
   ]
  },
  {
   "cell_type": "code",
   "execution_count": 56,
   "id": "0eec094a",
   "metadata": {},
   "outputs": [
    {
     "data": {
      "text/html": [
       "<div>\n",
       "<style scoped>\n",
       "    .dataframe tbody tr th:only-of-type {\n",
       "        vertical-align: middle;\n",
       "    }\n",
       "\n",
       "    .dataframe tbody tr th {\n",
       "        vertical-align: top;\n",
       "    }\n",
       "\n",
       "    .dataframe thead th {\n",
       "        text-align: right;\n",
       "    }\n",
       "</style>\n",
       "<table border=\"1\" class=\"dataframe\">\n",
       "  <thead>\n",
       "    <tr style=\"text-align: right;\">\n",
       "      <th></th>\n",
       "      <th>Tweet</th>\n",
       "      <th>Sentimiento</th>\n",
       "    </tr>\n",
       "  </thead>\n",
       "  <tbody>\n",
       "    <tr>\n",
       "      <th>37545</th>\n",
       "      <td>No hay más campeón q Arenas y el Premio Larra sentado a mi lado. RT El \"Gran Pablo\". Gracias x todo campeón</td>\n",
       "      <td>P</td>\n",
       "    </tr>\n",
       "    <tr>\n",
       "      <th>27540</th>\n",
       "      <td>Argumentario del PP:\"El PP gobierna sin mayoría absoluta en Aragón y Extremadura y ha podido aprobar los presupuestos con apoyo de otros\"</td>\n",
       "      <td>P</td>\n",
       "    </tr>\n",
       "    <tr>\n",
       "      <th>9323</th>\n",
       "      <td>Ya es Presidente del Gobierno de España ;-))))))))))))))</td>\n",
       "      <td>P</td>\n",
       "    </tr>\n",
       "    <tr>\n",
       "      <th>15347</th>\n",
       "      <td>“ Quiero dar la bienvenida a twitter a un genial director de cine (y sin embargo amigo), el gran +1!!!!;)</td>\n",
       "      <td>P</td>\n",
       "    </tr>\n",
       "    <tr>\n",
       "      <th>52341</th>\n",
       "      <td>esta el de Los Cabos.Qué bien me lo pasé en este concierto.</td>\n",
       "      <td>P</td>\n",
       "    </tr>\n",
       "  </tbody>\n",
       "</table>\n",
       "</div>"
      ],
      "text/plain": [
       "                                                                                                                                           Tweet  \\\n",
       "37545                                No hay más campeón q Arenas y el Premio Larra sentado a mi lado. RT El \"Gran Pablo\". Gracias x todo campeón   \n",
       "27540  Argumentario del PP:\"El PP gobierna sin mayoría absoluta en Aragón y Extremadura y ha podido aprobar los presupuestos con apoyo de otros\"   \n",
       "9323                                                                                    Ya es Presidente del Gobierno de España ;-))))))))))))))   \n",
       "15347                                  “ Quiero dar la bienvenida a twitter a un genial director de cine (y sin embargo amigo), el gran +1!!!!;)   \n",
       "52341                                                                                esta el de Los Cabos.Qué bien me lo pasé en este concierto.   \n",
       "\n",
       "      Sentimiento  \n",
       "37545           P  \n",
       "27540           P  \n",
       "9323            P  \n",
       "15347           P  \n",
       "52341           P  "
      ]
     },
     "execution_count": 56,
     "metadata": {},
     "output_type": "execute_result"
    }
   ],
   "source": [
    "UOC_tweets_filtrado.head()"
   ]
  },
  {
   "cell_type": "code",
   "execution_count": 57,
   "id": "d40e122d",
   "metadata": {},
   "outputs": [
    {
     "data": {
      "text/plain": [
       "NEU    3326\n",
       "N      3000\n",
       "P      1000\n",
       "Name: Sentimiento, dtype: int64"
      ]
     },
     "execution_count": 57,
     "metadata": {},
     "output_type": "execute_result"
    }
   ],
   "source": [
    "UOC_tweets_filtrado['Sentimiento'].value_counts()"
   ]
  },
  {
   "cell_type": "code",
   "execution_count": 46,
   "id": "77387249",
   "metadata": {},
   "outputs": [
    {
     "data": {
      "application/vnd.jupyter.widget-view+json": {
       "model_id": "d12ae6833fdf42359c8479d5e410482e",
       "version_major": 2,
       "version_minor": 0
      },
      "text/plain": [
       "Batches:   0%|          | 0/58 [00:00<?, ?it/s]"
      ]
     },
     "metadata": {},
     "output_type": "display_data"
    }
   ],
   "source": [
    "#Reentreno de embeddings\n",
    "#UOC_tweets_embeddings=np.array(model.encode(list(UOC_tweets_filtrado['Tweet']), \n",
    "#                                            show_progress_bar=True,batch_size=128))\n",
    "#with open(embeddings_path+'UOC_tweets_embeddings.npy', 'wb') as f:\n",
    "#     np.save(f,UOC_tweets_embeddings)"
   ]
  },
  {
   "cell_type": "code",
   "execution_count": 60,
   "id": "0a375e5c",
   "metadata": {},
   "outputs": [],
   "source": [
    "#Guardo labels\n",
    "label_dict={'P':1,'NEU':0,'N':-1}\n",
    "with open(embeddings_path+'UOC_tweets_labels.npy', 'wb') as f:\n",
    "     np.save(f,np.array(UOC_tweets_filtrado['Sentimiento'].apply(lambda x: label_dict[x])))"
   ]
  },
  {
   "cell_type": "code",
   "execution_count": 58,
   "id": "6e3912f6",
   "metadata": {},
   "outputs": [],
   "source": [
    "#Embeddings:\n",
    "with open(embeddings_path+'UOC_tweets_embeddings.npy', 'rb') as f:\n",
    "     UOC_tweets_embeddings=np.load(f)"
   ]
  }
 ],
 "metadata": {
  "kernelspec": {
   "display_name": "Python 3",
   "language": "python",
   "name": "python3"
  },
  "language_info": {
   "codemirror_mode": {
    "name": "ipython",
    "version": 3
   },
   "file_extension": ".py",
   "mimetype": "text/x-python",
   "name": "python",
   "nbconvert_exporter": "python",
   "pygments_lexer": "ipython3",
   "version": "3.8.10"
  }
 },
 "nbformat": 4,
 "nbformat_minor": 5
}
